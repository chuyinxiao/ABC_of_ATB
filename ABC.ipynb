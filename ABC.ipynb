{
 "cells": [
  {
   "cell_type": "markdown",
   "metadata": {},
   "source": [
    "# The ABC of ATB (Automated Trading Backtest)"
   ]
  },
  {
   "cell_type": "markdown",
   "metadata": {
    "collapsed": true
   },
   "source": [
    "## A. Obtaining Data"
   ]
  },
  {
   "cell_type": "markdown",
   "metadata": {},
   "source": [
    "In this part, we first retrieve data and save them as CSV files.We will first start with the easiest way to obtain data from Yahoo finance, and then look at other data sources in the future."
   ]
  },
  {
   "cell_type": "markdown",
   "metadata": {},
   "source": [
    "### A1. Getting Data from Google or  Yahoo Finance"
   ]
  },
  {
   "cell_type": "code",
   "execution_count": 1,
   "metadata": {
    "collapsed": false
   },
   "outputs": [
    {
     "name": "stdout",
     "output_type": "stream",
     "text": [
      "Python version 3.5.3 |Anaconda 4.0.0 (64-bit)| (default, Feb 22 2017, 21:28:42) [MSC v.1900 64 bit (AMD64)]\n",
      "Pandas version 0.20.3\n",
      "Done.\n"
     ]
    }
   ],
   "source": [
    "\"\"\"\n",
    "This code simply gets data from Yahoo Finance\n",
    "Input: symbols (list), start and end time\n",
    "Output: CVS forms contains the time series of a stock\n",
    "        for each symbol in the list\n",
    "\"\"\"\n",
    "\n",
    "# For compatibility with Py2 and Py3\n",
    "from __future__ import (absolute_import, division,\n",
    "                        print_function, unicode_literals)\n",
    "\n",
    "# Import necessary functions\n",
    "import datetime\n",
    "import pandas as pd\n",
    "import pandas_datareader.data as web\n",
    "import sys\n",
    "\n",
    "# Check Python and Pandas version\n",
    "print('Python version ' + sys.version)\n",
    "print('Pandas version ' + pd.__version__)\n",
    "\n",
    "# Inputs\n",
    "symbols = ['SPY', 'MAR', 'AMZN']\n",
    "start = datetime.datetime(2010, 1, 1)\n",
    "end = datetime.datetime(2017, 8, 16)\n",
    "\n",
    "if __name__ == \"__main__\":\n",
    "    for s in symbols:\n",
    "        # Getting the data\n",
    "        data = web.DataReader(s, 'google', start, end)\n",
    "        # Set the file name\n",
    "        filename = s + '.csv'\n",
    "        # Write to CSV file\n",
    "        pd.DataFrame.to_csv(data, filename, index=False)\n",
    "    print('Done.')"
   ]
  },
  {
   "cell_type": "code",
   "execution_count": null,
   "metadata": {
    "collapsed": true
   },
   "outputs": [],
   "source": []
  }
 ],
 "metadata": {
  "kernelspec": {
   "display_name": "Python 3",
   "language": "python",
   "name": "python3"
  },
  "language_info": {
   "codemirror_mode": {
    "name": "ipython",
    "version": 3
   },
   "file_extension": ".py",
   "mimetype": "text/x-python",
   "name": "python",
   "nbconvert_exporter": "python",
   "pygments_lexer": "ipython3",
   "version": "3.5.3"
  }
 },
 "nbformat": 4,
 "nbformat_minor": 0
}
