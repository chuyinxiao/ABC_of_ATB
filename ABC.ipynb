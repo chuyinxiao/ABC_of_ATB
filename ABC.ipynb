{
 "cells": [
  {
   "cell_type": "markdown",
   "metadata": {},
   "source": [
    "# The ABC of ATB (Automated Trading Backtest)"
   ]
  },
  {
   "cell_type": "markdown",
   "metadata": {
    "collapsed": true
   },
   "source": [
    "## A. Obtaining Data"
   ]
  },
  {
   "cell_type": "markdown",
   "metadata": {},
   "source": [
    "In this part, we first retrieve data and save them as CSV files.We will first start with the easiest way to obtain data from Yahoo finance, and then look at other data sources in the future."
   ]
  },
  {
   "cell_type": "markdown",
   "metadata": {},
   "source": [
    "### A1. Getting Data from Google or  Yahoo Finance"
   ]
  },
  {
   "cell_type": "code",
   "execution_count": 3,
   "metadata": {
    "collapsed": false
   },
   "outputs": [
    {
     "name": "stdout",
     "output_type": "stream",
     "text": [
      "Python version 3.5.3 |Anaconda 4.0.0 (64-bit)| (default, Feb 22 2017, 21:28:42) [MSC v.1900 64 bit (AMD64)]\n",
      "Pandas version 0.20.3\n",
      "Done.\n"
     ]
    }
   ],
   "source": [
    "# getting_data.py\n",
    "\"\"\"\n",
    "This code simply gets data from Google or Yahoo Finance\n",
    "Input: symbols (list), start and end time\n",
    "Output: CSV files that contain the time series of a stock for each symbol in the list\n",
    "\"\"\"\n",
    "\n",
    "# For compatibility with Py2 and Py3\n",
    "from __future__ import (absolute_import, division,\n",
    "                        print_function, unicode_literals)\n",
    "\n",
    "# Import necessary functions\n",
    "import datetime\n",
    "import pandas as pd\n",
    "import pandas_datareader.data as web\n",
    "import sys\n",
    "\n",
    "# Check Python and Pandas version\n",
    "print('Python version ' + sys.version)\n",
    "print('Pandas version ' + pd.__version__)\n",
    "\n",
    "# Inputs\n",
    "today = datetime.date.today()\n",
    "symbols = ['SPY', 'MAR', 'AMZN']\n",
    "site = 'google'  # Options: google, yahoo, etc.\n",
    "start = datetime.datetime(2010, 1, 1)\n",
    "end = today  # Or we use \"end = datetime.datetime(2017, 8, 17)\" for example\n",
    "\n",
    "if __name__ == \"__main__\":\n",
    "    for s in symbols:\n",
    "        # Getting the data\n",
    "        data = web.DataReader(s, site, start, end)\n",
    "        # Set the file name\n",
    "        filename = s + \".csv\"\n",
    "        # Write to CSV file\n",
    "        pd.DataFrame.to_csv(data, filename)\n",
    "    print('Done.')\n"
   ]
  },
  {
   "cell_type": "markdown",
   "metadata": {
    "collapsed": true
   },
   "source": [
    "# B. Event-Driven Trading Engine Implementation"
   ]
  },
  {
   "cell_type": "markdown",
   "metadata": {},
   "source": [
    "In general, an event-driven software continually checks for new events and then performs actions based on these\n",
    "events. To apply an event-driven approach to a backtesting system it is necessary to define our components (or objects) that will handle specific tasks:\n",
    "    1. Event\n",
    "    2. Event Queue\n",
    "    3. DataHandler\n",
    "    4. Strategy\n",
    "    5. Portfolio\n",
    "    6. ExecutionHandler\n",
    "    7. Backtest \n",
    " We will explain them in the following. "
   ]
  },
  {
   "cell_type": "markdown",
   "metadata": {},
   "source": [
    "## B1. Event"
   ]
  },
  {
   "cell_type": "markdown",
   "metadata": {},
   "source": [
    "### Event"
   ]
  },
  {
   "cell_type": "markdown",
   "metadata": {},
   "source": [
    "The Event calss is the base class of the system, which intuitively is what happening in the system. In particular, we consier four types of event, Market, Signal, Order and Fill. First, we define the general Event class."
   ]
  },
  {
   "cell_type": "code",
   "execution_count": 4,
   "metadata": {
    "collapsed": true
   },
   "outputs": [],
   "source": [
    "# event.py\n",
    "#%%\n",
    "# Define all types of events.\n",
    "\n",
    "\n",
    "class Event(object):\n",
    "    \"\"\"\n",
    "    Event is base class providing an interface for all subsequent\n",
    "    (inherited) events, that will trigger further events in the\n",
    "    trading infrastructure.\n",
    "    \"\"\"\n",
    "    pass"
   ]
  },
  {
   "cell_type": "markdown",
   "metadata": {},
   "source": [
    "### Market Event"
   ]
  },
  {
   "cell_type": "markdown",
   "metadata": {},
   "source": [
    "The MarketEvents are triggered when the outer while loop of the backtesting system starts over. It occurs when the DataHandler object receives a new update of market data for any symbols which are currently being tracked. It is used to trigger the Strategy object generating new trading signals. The event object simply contains an identification that it is a market event, with no other structure."
   ]
  },
  {
   "cell_type": "code",
   "execution_count": 5,
   "metadata": {
    "collapsed": true
   },
   "outputs": [],
   "source": [
    "# event.py (cont.)\n",
    "\n",
    "class MarketEvent(Event):\n",
    "    \"\"\"\n",
    "    Handles the event of receiving a new market update with \n",
    "    corresponding bars.\n",
    "    \"\"\"\n",
    "\n",
    "    def __init__(self):\n",
    "        \"\"\"\n",
    "        Initialises the MarketEvent.\n",
    "        \"\"\"\n",
    "        self.type = 'MARKET'\n"
   ]
  },
  {
   "cell_type": "markdown",
   "metadata": {},
   "source": [
    "### Signal Event"
   ]
  },
  {
   "cell_type": "markdown",
   "metadata": {},
   "source": []
  }
 ],
 "metadata": {
  "kernelspec": {
   "display_name": "Python 3",
   "language": "python",
   "name": "python3"
  },
  "language_info": {
   "codemirror_mode": {
    "name": "ipython",
    "version": 3
   },
   "file_extension": ".py",
   "mimetype": "text/x-python",
   "name": "python",
   "nbconvert_exporter": "python",
   "pygments_lexer": "ipython3",
   "version": "3.5.3"
  }
 },
 "nbformat": 4,
 "nbformat_minor": 0
}
